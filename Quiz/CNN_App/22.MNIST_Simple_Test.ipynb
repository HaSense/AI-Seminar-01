{
 "cells": [
  {
   "cell_type": "markdown",
   "id": "ad27d987",
   "metadata": {},
   "source": [
    "### 텐서플로우로 훈련시킨 모델로 손글씨 예측"
   ]
  },
  {
   "cell_type": "code",
   "execution_count": 1,
   "id": "aa774cfe",
   "metadata": {},
   "outputs": [],
   "source": [
    "from tensorflow.keras.datasets import mnist\n",
    "#from tensorflow.keras.utils import np_utils #아래 표현으로 변경되었습니다.\n",
    "from tensorflow.python.keras.utils.np_utils import to_categorical\n",
    "from tensorflow.keras.models import Sequential\n",
    "from tensorflow.keras.layers import Dense\n",
    "from tensorflow.keras.callbacks import ModelCheckpoint,EarlyStopping"
   ]
  },
  {
   "cell_type": "code",
   "execution_count": 2,
   "id": "8a941f2b",
   "metadata": {},
   "outputs": [],
   "source": [
    "import matplotlib.pyplot as plt\n",
    "import numpy as np\n",
    "import os\n",
    "import tensorflow as tf"
   ]
  },
  {
   "cell_type": "code",
   "execution_count": 3,
   "id": "be71f02c",
   "metadata": {},
   "outputs": [],
   "source": [
    "# seed 값 설정\n",
    "seed = 0\n",
    "np.random.seed(seed)\n",
    "tf.random.set_seed(3)"
   ]
  },
  {
   "cell_type": "code",
   "execution_count": 4,
   "id": "1fd43f74",
   "metadata": {},
   "outputs": [],
   "source": [
    "# MNIST 데이터 불러오기\n",
    "(X_train, Y_train), (X_test, Y_test) = mnist.load_data()\n",
    "\n",
    "X_train = X_train.reshape(X_train.shape[0], 784).astype('float32') / 255\n",
    "X_test = X_test.reshape(X_test.shape[0], 784).astype('float32') / 255\n",
    "\n",
    "Y_train = to_categorical(Y_train, 10)\n",
    "Y_test = to_categorical(Y_test, 10)"
   ]
  },
  {
   "cell_type": "code",
   "execution_count": 5,
   "id": "3ad8e349",
   "metadata": {},
   "outputs": [],
   "source": [
    "# 모델 프레임 설정\n",
    "model = Sequential()\n",
    "model.add(Dense(512, input_dim=784, activation='relu'))\n",
    "model.add(Dense(10, activation='softmax'))\n"
   ]
  },
  {
   "cell_type": "code",
   "execution_count": 6,
   "id": "d8a1ca38",
   "metadata": {},
   "outputs": [],
   "source": [
    "# 모델 실행 환경 설정\n",
    "model.compile(loss='categorical_crossentropy',\n",
    "              optimizer='adam',\n",
    "              metrics=['accuracy'])"
   ]
  },
  {
   "cell_type": "code",
   "execution_count": 7,
   "id": "f87ed4f2",
   "metadata": {},
   "outputs": [],
   "source": [
    "# 모델 최적화 설정\n",
    "MODEL_DIR = './model/'\n",
    "if not os.path.exists(MODEL_DIR):\n",
    "    os.mkdir(MODEL_DIR)\n",
    "\n",
    "modelpath=\"./model/{epoch:02d}-{val_loss:.4f}.hdf5\"\n",
    "checkpointer = ModelCheckpoint(filepath=modelpath, monitor='val_loss', verbose=1, save_best_only=True)\n",
    "early_stopping_callback = EarlyStopping(monitor='val_loss', patience=10)"
   ]
  },
  {
   "cell_type": "code",
   "execution_count": 8,
   "id": "7232addd",
   "metadata": {},
   "outputs": [
    {
     "name": "stdout",
     "output_type": "stream",
     "text": [
      "\n",
      "Epoch 00001: val_loss improved from inf to 0.14746, saving model to ./model\\01-0.1475.hdf5\n",
      "\n",
      "Epoch 00002: val_loss improved from 0.14746 to 0.10213, saving model to ./model\\02-0.1021.hdf5\n",
      "\n",
      "Epoch 00003: val_loss improved from 0.10213 to 0.08922, saving model to ./model\\03-0.0892.hdf5\n",
      "\n",
      "Epoch 00004: val_loss improved from 0.08922 to 0.07886, saving model to ./model\\04-0.0789.hdf5\n",
      "\n",
      "Epoch 00005: val_loss improved from 0.07886 to 0.07417, saving model to ./model\\05-0.0742.hdf5\n",
      "\n",
      "Epoch 00006: val_loss improved from 0.07417 to 0.06719, saving model to ./model\\06-0.0672.hdf5\n",
      "\n",
      "Epoch 00007: val_loss improved from 0.06719 to 0.06480, saving model to ./model\\07-0.0648.hdf5\n",
      "\n",
      "Epoch 00008: val_loss improved from 0.06480 to 0.06298, saving model to ./model\\08-0.0630.hdf5\n",
      "\n",
      "Epoch 00009: val_loss did not improve from 0.06298\n",
      "\n",
      "Epoch 00010: val_loss did not improve from 0.06298\n",
      "\n",
      "Epoch 00011: val_loss did not improve from 0.06298\n",
      "\n",
      "Epoch 00012: val_loss did not improve from 0.06298\n",
      "\n",
      "Epoch 00013: val_loss improved from 0.06298 to 0.06063, saving model to ./model\\13-0.0606.hdf5\n",
      "\n",
      "Epoch 00014: val_loss did not improve from 0.06063\n",
      "\n",
      "Epoch 00015: val_loss did not improve from 0.06063\n",
      "\n",
      "Epoch 00016: val_loss did not improve from 0.06063\n",
      "\n",
      "Epoch 00017: val_loss did not improve from 0.06063\n",
      "\n",
      "Epoch 00018: val_loss did not improve from 0.06063\n",
      "\n",
      "Epoch 00019: val_loss did not improve from 0.06063\n",
      "\n",
      "Epoch 00020: val_loss did not improve from 0.06063\n",
      "\n",
      "Epoch 00021: val_loss did not improve from 0.06063\n",
      "\n",
      "Epoch 00022: val_loss did not improve from 0.06063\n",
      "\n",
      "Epoch 00023: val_loss did not improve from 0.06063\n"
     ]
    }
   ],
   "source": [
    "# 모델의 실행\n",
    "history = model.fit(X_train, Y_train, validation_data=(X_test, Y_test), epochs=30, batch_size=200, verbose=0, callbacks=[early_stopping_callback,checkpointer])"
   ]
  },
  {
   "cell_type": "code",
   "execution_count": 9,
   "id": "feb61708",
   "metadata": {},
   "outputs": [
    {
     "name": "stdout",
     "output_type": "stream",
     "text": [
      "313/313 [==============================] - 1s 2ms/step - loss: 0.0661 - accuracy: 0.9833\n",
      "\n",
      " Test Accuracy: 0.9833\n"
     ]
    }
   ],
   "source": [
    "# 테스트 정확도 출력\n",
    "print(\"\\n Test Accuracy: %.4f\" % (model.evaluate(X_test, Y_test)[1]))\n",
    "\n",
    "# 테스트 셋의 오차\n",
    "y_vloss = history.history['val_loss']\n",
    "\n",
    "# 학습셋의 오차\n",
    "y_loss = history.history['loss']"
   ]
  },
  {
   "cell_type": "code",
   "execution_count": 10,
   "id": "1b400039",
   "metadata": {},
   "outputs": [
    {
     "data": {
      "image/png": "[encoded data removed]",
      "text/plain": [
       "<Figure size 432x288 with 1 Axes>"
      ]
     },
     "metadata": {
      "needs_background": "light"
     },
     "output_type": "display_data"
    }
   ],
   "source": [
    "# 그래프로 표현\n",
    "x_len = np.arange(len(y_loss))\n",
    "plt.plot(x_len, y_vloss, marker='.', c=\"red\", label='Testset_loss')\n",
    "plt.plot(x_len, y_loss, marker='.', c=\"blue\", label='Trainset_loss')\n",
    "\n",
    "# 그래프에 그리드를 주고 레이블을 표시\n",
    "plt.legend(loc='upper right')\n",
    "# plt.axis([0, 20, 0, 0.35])\n",
    "plt.grid()\n",
    "plt.xlabel('epoch')\n",
    "plt.ylabel('loss')\n",
    "plt.show()"
   ]
  },
  {
   "cell_type": "code",
   "execution_count": null,
   "id": "8495cb8c",
   "metadata": {},
   "outputs": [],
   "source": [
    "#모델을 불러오기\n",
    "#훈련시킨 모델을 사용하셔도 되고 파일에서 가져오셔도 됩니다.\n",
    "\n",
    "#from tensorflow.keras.models import Sequential, load_model\n",
    "\n",
    "#model = load_model('./model/13-0.0606.hdf5') # CNN 모델을 불러옴"
   ]
  },
  {
   "cell_type": "code",
   "execution_count": 11,
   "id": "69f13a08",
   "metadata": {},
   "outputs": [
    {
     "name": "stdout",
     "output_type": "stream",
     "text": [
      "313/313 [==============================] - 1s 2ms/step - loss: 0.0661 - accuracy: 0.9833\n",
      "\n",
      " Test Accuracy: 0.9833\n"
     ]
    }
   ],
   "source": [
    "# 테스트 정확도 출력\n",
    "print(\"\\n Test Accuracy: %.4f\" % (model.evaluate(X_test, Y_test)[1]))"
   ]
  },
  {
   "cell_type": "code",
   "execution_count": 12,
   "id": "09897b4b",
   "metadata": {},
   "outputs": [
    {
     "data": {
      "text/plain": [
       "array([[2.06614912e-12, 2.43105452e-14, 1.62540641e-11, ...,\n",
       "        9.99999881e-01, 3.20271726e-11, 1.30724331e-09],\n",
       "       [2.06685493e-12, 1.24161534e-08, 1.00000000e+00, ...,\n",
       "        4.17274400e-22, 1.37913838e-11, 1.28716764e-17],\n",
       "       [2.28762764e-09, 9.99993801e-01, 4.86622298e-07, ...,\n",
       "        2.16393664e-06, 3.51362178e-06, 4.78575346e-10],\n",
       "       ...,\n",
       "       [6.93566387e-21, 4.25682655e-16, 1.78536192e-21, ...,\n",
       "        1.83159835e-10, 4.90945652e-12, 1.96872563e-09],\n",
       "       [3.45115307e-14, 5.59300860e-18, 1.00213019e-15, ...,\n",
       "        5.84432913e-15, 5.48428488e-07, 2.98335881e-18],\n",
       "       [2.98695361e-14, 7.56048767e-19, 1.30905215e-13, ...,\n",
       "        8.11780836e-20, 2.39933961e-17, 3.04267800e-18]], dtype=float32)"
      ]
     },
     "execution_count": 12,
     "metadata": {},
     "output_type": "execute_result"
    }
   ],
   "source": [
    "#Test대상의 손글씨 X값들\n",
    "model.predict(X_test)"
   ]
  },
  {
   "cell_type": "code",
   "execution_count": 13,
   "id": "048b927f",
   "metadata": {},
   "outputs": [
    {
     "name": "stdout",
     "output_type": "stream",
     "text": [
      "WARNING:tensorflow:From C:\\Users\\shha\\AppData\\Local\\Temp\\ipykernel_13944\\3314809960.py:2: Sequential.predict_classes (from tensorflow.python.keras.engine.sequential) is deprecated and will be removed after 2021-01-01.\n",
      "Instructions for updating:\n",
      "Please use instead:* `np.argmax(model.predict(x), axis=-1)`,   if your model does multi-class classification   (e.g. if it uses a `softmax` last-layer activation).* `(model.predict(x) > 0.5).astype(\"int32\")`,   if your model does binary classification   (e.g. if it uses a `sigmoid` last-layer activation).\n"
     ]
    },
    {
     "data": {
      "text/plain": [
       "array([7, 2, 1, ..., 4, 5, 6], dtype=int64)"
      ]
     },
     "execution_count": 13,
     "metadata": {},
     "output_type": "execute_result"
    }
   ],
   "source": [
    "#모델이 판단한 X값들\n",
    "model.predict_classes(X_test)"
   ]
  },
  {
   "cell_type": "code",
   "execution_count": 14,
   "id": "4f610cbb",
   "metadata": {},
   "outputs": [
    {
     "data": {
      "text/plain": [
       "array([[0., 0., 0., ..., 1., 0., 0.],\n",
       "       [0., 0., 1., ..., 0., 0., 0.],\n",
       "       [0., 1., 0., ..., 0., 0., 0.],\n",
       "       ...,\n",
       "       [0., 0., 0., ..., 0., 0., 0.],\n",
       "       [0., 0., 0., ..., 0., 0., 0.],\n",
       "       [0., 0., 0., ..., 0., 0., 0.]], dtype=float32)"
      ]
     },
     "execution_count": 14,
     "metadata": {},
     "output_type": "execute_result"
    }
   ],
   "source": [
    "Y_test"
   ]
  },
  {
   "cell_type": "code",
   "execution_count": 15,
   "id": "c673cbb0",
   "metadata": {},
   "outputs": [
    {
     "data": {
      "text/plain": [
       "(10000, 784)"
      ]
     },
     "execution_count": 15,
     "metadata": {},
     "output_type": "execute_result"
    }
   ],
   "source": [
    "#XTest 리스트의 모양\n",
    "X_test.shape"
   ]
  },
  {
   "cell_type": "code",
   "execution_count": 16,
   "id": "26352c84",
   "metadata": {},
   "outputs": [
    {
     "data": {
      "text/plain": [
       "(784,)"
      ]
     },
     "execution_count": 16,
     "metadata": {},
     "output_type": "execute_result"
    }
   ],
   "source": [
    "#XTest 리스트 첫번째 요소인 0번지 요소값의 행렬 모양\n",
    "X_test[0].shape"
   ]
  },
  {
   "cell_type": "code",
   "execution_count": 17,
   "id": "88437269",
   "metadata": {},
   "outputs": [],
   "source": [
    "sample = X_test[0].reshape(1,28,28,1) #opencv로 출력하기 위해 행렬의 모양을 재정의"
   ]
  },
  {
   "cell_type": "code",
   "execution_count": 18,
   "id": "382375b9",
   "metadata": {},
   "outputs": [
    {
     "data": {
      "text/plain": [
       "(1, 28, 28, 1)"
      ]
     },
     "execution_count": 18,
     "metadata": {},
     "output_type": "execute_result"
    }
   ],
   "source": [
    "sample.shape #자료개수, 가로, 세로, 채널"
   ]
  },
  {
   "cell_type": "code",
   "execution_count": 19,
   "id": "cd07ef27",
   "metadata": {},
   "outputs": [],
   "source": [
    "import cv2"
   ]
  },
  {
   "cell_type": "code",
   "execution_count": 20,
   "id": "11a56d83",
   "metadata": {},
   "outputs": [
    {
     "data": {
      "image/png": "[encoded data removed]",
      "text/plain": [
       "<Figure size 432x288 with 1 Axes>"
      ]
     },
     "metadata": {
      "needs_background": "light"
     },
     "output_type": "display_data"
    }
   ],
   "source": [
    "img = cv2.imread('./number_3.jpg',0)\n",
    "img2 = 255 - img.copy() #흑백 색상 반전\n",
    "plt.imshow(img2, cmap='Greys')\n",
    "plt.show()"
   ]
  },
  {
   "cell_type": "code",
   "execution_count": 21,
   "id": "e274bafe",
   "metadata": {},
   "outputs": [
    {
     "data": {
      "text/plain": [
       "(28, 28)"
      ]
     },
     "execution_count": 21,
     "metadata": {},
     "output_type": "execute_result"
    }
   ],
   "source": [
    "img2.shape"
   ]
  },
  {
   "cell_type": "code",
   "execution_count": 22,
   "id": "e7004d35",
   "metadata": {},
   "outputs": [],
   "source": [
    "img3 = img2.reshape(1, 28, 28, 1) / 255"
   ]
  },
  {
   "cell_type": "code",
   "execution_count": 23,
   "id": "356af220",
   "metadata": {},
   "outputs": [],
   "source": [
    "img3 = img3.reshape(1, 784)"
   ]
  },
  {
   "cell_type": "code",
   "execution_count": 24,
   "id": "6576f7d5",
   "metadata": {},
   "outputs": [
    {
     "data": {
      "text/plain": [
       "(1, 784)"
      ]
     },
     "execution_count": 24,
     "metadata": {},
     "output_type": "execute_result"
    }
   ],
   "source": [
    "img3.shape"
   ]
  },
  {
   "cell_type": "code",
   "execution_count": 25,
   "id": "dfb7c9a0",
   "metadata": {},
   "outputs": [
    {
     "data": {
      "text/plain": [
       "array([3], dtype=int64)"
      ]
     },
     "execution_count": 25,
     "metadata": {},
     "output_type": "execute_result"
    }
   ],
   "source": [
    "model.predict_classes(img3)"
   ]
  },
  {
   "cell_type": "markdown",
   "id": "459bf3b7",
   "metadata": {},
   "source": [
    "### 글씨 4를 인식"
   ]
  },
  {
   "cell_type": "code",
   "execution_count": 26,
   "id": "72312ed1",
   "metadata": {},
   "outputs": [
    {
     "data": {
      "image/png": "[encoded data removed]",
      "text/plain": [
       "<Figure size 432x288 with 1 Axes>"
      ]
     },
     "metadata": {
      "needs_background": "light"
     },
     "output_type": "display_data"
    }
   ],
   "source": [
    "img = cv2.imread('./number_4.jpg',0)\n",
    "img2 = 255 - img.copy() #흑백 색상 반전\n",
    "plt.imshow(img2, cmap='Greys')\n",
    "plt.show()"
   ]
  },
  {
   "cell_type": "code",
   "execution_count": 27,
   "id": "ae62a416",
   "metadata": {},
   "outputs": [],
   "source": [
    "img3 = img2.reshape(1, 28, 28, 1) / 255"
   ]
  },
  {
   "cell_type": "code",
   "execution_count": 28,
   "id": "253fbb5a",
   "metadata": {},
   "outputs": [],
   "source": [
    "#모델에 맞게 모양 변경\n",
    "img3 = img3.reshape(1, 784)"
   ]
  },
  {
   "cell_type": "code",
   "execution_count": 29,
   "id": "9b63885c",
   "metadata": {},
   "outputs": [
    {
     "data": {
      "text/plain": [
       "array([4], dtype=int64)"
      ]
     },
     "execution_count": 29,
     "metadata": {},
     "output_type": "execute_result"
    }
   ],
   "source": [
    "model.predict_classes(img3)"
   ]
  },
  {
   "cell_type": "code",
   "execution_count": null,
   "id": "6bb93e51",
   "metadata": {},
   "outputs": [],
   "source": []
  }
 ],
 "metadata": {
  "kernelspec": {
   "display_name": "Python 3 (ipykernel)",
   "language": "python",
   "name": "python3"
  },
  "language_info": {
   "codemirror_mode": {
    "name": "ipython",
    "version": 3
   },
   "file_extension": ".py",
   "mimetype": "text/x-python",
   "name": "python",
   "nbconvert_exporter": "python",
   "pygments_lexer": "ipython3",
   "version": "3.8.13"
  }
 },
 "nbformat": 4,
 "nbformat_minor": 5
}
