{
 "cells": [
  {
   "cell_type": "code",
   "execution_count": 1,
   "metadata": {},
   "outputs": [
    {
     "name": "stderr",
     "output_type": "stream",
     "text": [
      "Using TensorFlow backend.\n"
     ]
    }
   ],
   "source": [
    "from keras.models import Sequential\n",
    "from keras.layers.core import Dense\n",
    "from sklearn.preprocessing import LabelEncoder\n",
    "from sklearn.model_selection import train_test_split\n",
    "\n",
    "import pandas as pd\n",
    "import numpy\n",
    "import tensorflow as tf\n"
   ]
  },
  {
   "cell_type": "code",
   "execution_count": 2,
   "metadata": {},
   "outputs": [],
   "source": [
    "# seed 값 설정\n",
    "seed = 0\n",
    "numpy.random.seed(seed)\n",
    "tf.random.set_seed(3)"
   ]
  },
  {
   "cell_type": "code",
   "execution_count": 4,
   "metadata": {},
   "outputs": [
    {
     "data": {
      "text/plain": [
       "'\\nprint(df.info())\\nprint(df.head())\\n'"
      ]
     },
     "execution_count": 4,
     "metadata": {},
     "output_type": "execute_result"
    }
   ],
   "source": [
    "df = pd.read_csv('./dataset/sonar.csv', header=None)\n",
    "\n",
    "'''\n",
    "print(df.info())\n",
    "print(df.head())\n",
    "'''"
   ]
  },
  {
   "cell_type": "code",
   "execution_count": 7,
   "metadata": {},
   "outputs": [
    {
     "name": "stdout",
     "output_type": "stream",
     "text": [
      "[[0.02 0.0371 0.0428 ... 0.0084 0.009 0.0032]\n",
      " [0.0453 0.0523 0.0843 ... 0.0049 0.0052 0.0044]\n",
      " [0.0262 0.0582 0.1099 ... 0.0164 0.0095 0.0078]\n",
      " ...\n",
      " [0.0522 0.0437 0.018 ... 0.0138 0.0077 0.0031]\n",
      " [0.0303 0.0353 0.049 ... 0.0079 0.0036 0.0048]\n",
      " [0.026 0.0363 0.0136 ... 0.0036 0.0061 0.0115]]\n",
      "['R' 'R' 'R' 'R' 'R' 'R' 'R' 'R' 'R' 'R' 'R' 'R' 'R' 'R' 'R' 'R' 'R' 'R'\n",
      " 'R' 'R' 'R' 'R' 'R' 'R' 'R' 'R' 'R' 'R' 'R' 'R' 'R' 'R' 'R' 'R' 'R' 'R'\n",
      " 'R' 'R' 'R' 'R' 'R' 'R' 'R' 'R' 'R' 'R' 'R' 'R' 'R' 'R' 'R' 'R' 'R' 'R'\n",
      " 'R' 'R' 'R' 'R' 'R' 'R' 'R' 'R' 'R' 'R' 'R' 'R' 'R' 'R' 'R' 'R' 'R' 'R'\n",
      " 'R' 'R' 'R' 'R' 'R' 'R' 'R' 'R' 'R' 'R' 'R' 'R' 'R' 'R' 'R' 'R' 'R' 'R'\n",
      " 'R' 'R' 'R' 'R' 'R' 'R' 'R' 'M' 'M' 'M' 'M' 'M' 'M' 'M' 'M' 'M' 'M' 'M'\n",
      " 'M' 'M' 'M' 'M' 'M' 'M' 'M' 'M' 'M' 'M' 'M' 'M' 'M' 'M' 'M' 'M' 'M' 'M'\n",
      " 'M' 'M' 'M' 'M' 'M' 'M' 'M' 'M' 'M' 'M' 'M' 'M' 'M' 'M' 'M' 'M' 'M' 'M'\n",
      " 'M' 'M' 'M' 'M' 'M' 'M' 'M' 'M' 'M' 'M' 'M' 'M' 'M' 'M' 'M' 'M' 'M' 'M'\n",
      " 'M' 'M' 'M' 'M' 'M' 'M' 'M' 'M' 'M' 'M' 'M' 'M' 'M' 'M' 'M' 'M' 'M' 'M'\n",
      " 'M' 'M' 'M' 'M' 'M' 'M' 'M' 'M' 'M' 'M' 'M' 'M' 'M' 'M' 'M' 'M' 'M' 'M'\n",
      " 'M' 'M' 'M' 'M' 'M' 'M' 'M' 'M' 'M' 'M']\n"
     ]
    }
   ],
   "source": [
    "dataset = df.values\n",
    "X = dataset[:,0:60]\n",
    "Y_obj = dataset[:,60]\n",
    "print(X)\n",
    "print(Y_obj)"
   ]
  },
  {
   "cell_type": "code",
   "execution_count": 8,
   "metadata": {},
   "outputs": [
    {
     "name": "stdout",
     "output_type": "stream",
     "text": [
      "LabelEncoder()\n",
      "[1 1 1 1 1 1 1 1 1 1 1 1 1 1 1 1 1 1 1 1 1 1 1 1 1 1 1 1 1 1 1 1 1 1 1 1 1\n",
      " 1 1 1 1 1 1 1 1 1 1 1 1 1 1 1 1 1 1 1 1 1 1 1 1 1 1 1 1 1 1 1 1 1 1 1 1 1\n",
      " 1 1 1 1 1 1 1 1 1 1 1 1 1 1 1 1 1 1 1 1 1 1 1 0 0 0 0 0 0 0 0 0 0 0 0 0 0\n",
      " 0 0 0 0 0 0 0 0 0 0 0 0 0 0 0 0 0 0 0 0 0 0 0 0 0 0 0 0 0 0 0 0 0 0 0 0 0\n",
      " 0 0 0 0 0 0 0 0 0 0 0 0 0 0 0 0 0 0 0 0 0 0 0 0 0 0 0 0 0 0 0 0 0 0 0 0 0\n",
      " 0 0 0 0 0 0 0 0 0 0 0 0 0 0 0 0 0 0 0 0 0 0 0]\n"
     ]
    }
   ],
   "source": [
    "e = LabelEncoder()\n",
    "e.fit(Y_obj)\n",
    "Y = e.transform(Y_obj)\n",
    "print(e)\n",
    "print(Y)"
   ]
  },
  {
   "cell_type": "code",
   "execution_count": 9,
   "metadata": {},
   "outputs": [],
   "source": [
    "# 학습 셋과 테스트 셋의 구분\n",
    "X_train, X_test, Y_train, Y_test = train_test_split(X, Y, test_size=0.3, random_state=seed)"
   ]
  },
  {
   "cell_type": "code",
   "execution_count": 10,
   "metadata": {},
   "outputs": [],
   "source": [
    "model = Sequential()\n",
    "model.add(Dense(24,  input_dim=60, activation='relu'))\n",
    "model.add(Dense(10, activation='relu'))\n",
    "model.add(Dense(1, activation='sigmoid'))"
   ]
  },
  {
   "cell_type": "code",
   "execution_count": 11,
   "metadata": {},
   "outputs": [],
   "source": [
    "model.compile(loss='mean_squared_error',\n",
    "            optimizer='adam',\n",
    "            metrics=['accuracy'])"
   ]
  },
  {
   "cell_type": "code",
   "execution_count": 12,
   "metadata": {},
   "outputs": [
    {
     "name": "stdout",
     "output_type": "stream",
     "text": [
      "Epoch 1/130\n",
      "145/145 [==============================] - 0s 780us/step - loss: 0.2486 - accuracy: 0.5379\n",
      "Epoch 2/130\n",
      "145/145 [==============================] - 0s 214us/step - loss: 0.2344 - accuracy: 0.5931\n",
      "Epoch 3/130\n",
      "145/145 [==============================] - 0s 234us/step - loss: 0.2233 - accuracy: 0.7241\n",
      "Epoch 4/130\n",
      "145/145 [==============================] - 0s 228us/step - loss: 0.2125 - accuracy: 0.6966\n",
      "Epoch 5/130\n",
      "145/145 [==============================] - 0s 227us/step - loss: 0.2040 - accuracy: 0.7310\n",
      "Epoch 6/130\n",
      "145/145 [==============================] - 0s 207us/step - loss: 0.1969 - accuracy: 0.7793\n",
      "Epoch 7/130\n",
      "145/145 [==============================] - 0s 220us/step - loss: 0.1878 - accuracy: 0.7655\n",
      "Epoch 8/130\n",
      "145/145 [==============================] - 0s 214us/step - loss: 0.1772 - accuracy: 0.7379\n",
      "Epoch 9/130\n",
      "145/145 [==============================] - 0s 221us/step - loss: 0.1660 - accuracy: 0.7931\n",
      "Epoch 10/130\n",
      "145/145 [==============================] - 0s 214us/step - loss: 0.1599 - accuracy: 0.8000\n",
      "Epoch 11/130\n",
      "145/145 [==============================] - 0s 235us/step - loss: 0.1539 - accuracy: 0.8276\n",
      "Epoch 12/130\n",
      "145/145 [==============================] - 0s 228us/step - loss: 0.1560 - accuracy: 0.7517\n",
      "Epoch 13/130\n",
      "145/145 [==============================] - 0s 221us/step - loss: 0.1468 - accuracy: 0.8207\n",
      "Epoch 14/130\n",
      "145/145 [==============================] - 0s 221us/step - loss: 0.1387 - accuracy: 0.8345\n",
      "Epoch 15/130\n",
      "145/145 [==============================] - 0s 200us/step - loss: 0.1353 - accuracy: 0.8414\n",
      "Epoch 16/130\n",
      "145/145 [==============================] - 0s 200us/step - loss: 0.1315 - accuracy: 0.8345\n",
      "Epoch 17/130\n",
      "145/145 [==============================] - 0s 228us/step - loss: 0.1285 - accuracy: 0.8483\n",
      "Epoch 18/130\n",
      "145/145 [==============================] - 0s 221us/step - loss: 0.1255 - accuracy: 0.8621\n",
      "Epoch 19/130\n",
      "145/145 [==============================] - 0s 255us/step - loss: 0.1233 - accuracy: 0.8414\n",
      "Epoch 20/130\n",
      "145/145 [==============================] - 0s 241us/step - loss: 0.1188 - accuracy: 0.8690\n",
      "Epoch 21/130\n",
      "145/145 [==============================] - 0s 235us/step - loss: 0.1233 - accuracy: 0.8552\n",
      "Epoch 22/130\n",
      "145/145 [==============================] - 0s 262us/step - loss: 0.1169 - accuracy: 0.8345\n",
      "Epoch 23/130\n",
      "145/145 [==============================] - 0s 241us/step - loss: 0.1145 - accuracy: 0.8552\n",
      "Epoch 24/130\n",
      "145/145 [==============================] - 0s 207us/step - loss: 0.1098 - accuracy: 0.8621\n",
      "Epoch 25/130\n",
      "145/145 [==============================] - 0s 207us/step - loss: 0.1083 - accuracy: 0.8690\n",
      "Epoch 26/130\n",
      "145/145 [==============================] - 0s 193us/step - loss: 0.1076 - accuracy: 0.8552\n",
      "Epoch 27/130\n",
      "145/145 [==============================] - 0s 234us/step - loss: 0.1040 - accuracy: 0.8621\n",
      "Epoch 28/130\n",
      "145/145 [==============================] - 0s 276us/step - loss: 0.1063 - accuracy: 0.8621\n",
      "Epoch 29/130\n",
      "145/145 [==============================] - 0s 376us/step - loss: 0.1007 - accuracy: 0.8759\n",
      "Epoch 30/130\n",
      "145/145 [==============================] - 0s 241us/step - loss: 0.1076 - accuracy: 0.8621\n",
      "Epoch 31/130\n",
      "145/145 [==============================] - 0s 186us/step - loss: 0.1005 - accuracy: 0.8552\n",
      "Epoch 32/130\n",
      "145/145 [==============================] - 0s 159us/step - loss: 0.1007 - accuracy: 0.8690\n",
      "Epoch 33/130\n",
      "145/145 [==============================] - 0s 179us/step - loss: 0.0944 - accuracy: 0.8966\n",
      "Epoch 34/130\n",
      "145/145 [==============================] - 0s 166us/step - loss: 0.0959 - accuracy: 0.8690\n",
      "Epoch 35/130\n",
      "145/145 [==============================] - 0s 166us/step - loss: 0.0945 - accuracy: 0.8690\n",
      "Epoch 36/130\n",
      "145/145 [==============================] - 0s 159us/step - loss: 0.0954 - accuracy: 0.8621\n",
      "Epoch 37/130\n",
      "145/145 [==============================] - 0s 193us/step - loss: 0.0945 - accuracy: 0.8897\n",
      "Epoch 38/130\n",
      "145/145 [==============================] - 0s 166us/step - loss: 0.0869 - accuracy: 0.8897\n",
      "Epoch 39/130\n",
      "145/145 [==============================] - 0s 172us/step - loss: 0.0855 - accuracy: 0.8828\n",
      "Epoch 40/130\n",
      "145/145 [==============================] - 0s 172us/step - loss: 0.0817 - accuracy: 0.8897\n",
      "Epoch 41/130\n",
      "145/145 [==============================] - 0s 172us/step - loss: 0.0799 - accuracy: 0.9034\n",
      "Epoch 42/130\n",
      "145/145 [==============================] - 0s 166us/step - loss: 0.0768 - accuracy: 0.8897\n",
      "Epoch 43/130\n",
      "145/145 [==============================] - 0s 172us/step - loss: 0.0750 - accuracy: 0.9034\n",
      "Epoch 44/130\n",
      "145/145 [==============================] - 0s 166us/step - loss: 0.0742 - accuracy: 0.9103\n",
      "Epoch 45/130\n",
      "145/145 [==============================] - 0s 172us/step - loss: 0.0736 - accuracy: 0.8828\n",
      "Epoch 46/130\n",
      "145/145 [==============================] - 0s 172us/step - loss: 0.0724 - accuracy: 0.9034\n",
      "Epoch 47/130\n",
      "145/145 [==============================] - 0s 159us/step - loss: 0.0761 - accuracy: 0.8966\n",
      "Epoch 48/130\n",
      "145/145 [==============================] - 0s 166us/step - loss: 0.0631 - accuracy: 0.9379\n",
      "Epoch 49/130\n",
      "145/145 [==============================] - 0s 159us/step - loss: 0.0681 - accuracy: 0.9103\n",
      "Epoch 50/130\n",
      "145/145 [==============================] - 0s 172us/step - loss: 0.0680 - accuracy: 0.9241\n",
      "Epoch 51/130\n",
      "145/145 [==============================] - 0s 152us/step - loss: 0.0616 - accuracy: 0.9379\n",
      "Epoch 52/130\n",
      "145/145 [==============================] - 0s 166us/step - loss: 0.0596 - accuracy: 0.9310\n",
      "Epoch 53/130\n",
      "145/145 [==============================] - 0s 186us/step - loss: 0.0583 - accuracy: 0.9448\n",
      "Epoch 54/130\n",
      "145/145 [==============================] - 0s 179us/step - loss: 0.0554 - accuracy: 0.9517\n",
      "Epoch 55/130\n",
      "145/145 [==============================] - 0s 172us/step - loss: 0.0536 - accuracy: 0.9517\n",
      "Epoch 56/130\n",
      "145/145 [==============================] - 0s 159us/step - loss: 0.0522 - accuracy: 0.9448\n",
      "Epoch 57/130\n",
      "145/145 [==============================] - 0s 172us/step - loss: 0.0522 - accuracy: 0.9379\n",
      "Epoch 58/130\n",
      "145/145 [==============================] - 0s 172us/step - loss: 0.0506 - accuracy: 0.9586\n",
      "Epoch 59/130\n",
      "145/145 [==============================] - 0s 172us/step - loss: 0.0494 - accuracy: 0.9586\n",
      "Epoch 60/130\n",
      "145/145 [==============================] - 0s 172us/step - loss: 0.0498 - accuracy: 0.9517\n",
      "Epoch 61/130\n",
      "145/145 [==============================] - 0s 166us/step - loss: 0.0446 - accuracy: 0.9586\n",
      "Epoch 62/130\n",
      "145/145 [==============================] - 0s 166us/step - loss: 0.0459 - accuracy: 0.9448\n",
      "Epoch 63/130\n",
      "145/145 [==============================] - 0s 166us/step - loss: 0.0410 - accuracy: 0.9586\n",
      "Epoch 64/130\n",
      "145/145 [==============================] - 0s 172us/step - loss: 0.0421 - accuracy: 0.9586\n",
      "Epoch 65/130\n",
      "145/145 [==============================] - 0s 179us/step - loss: 0.0440 - accuracy: 0.9586\n",
      "Epoch 66/130\n",
      "145/145 [==============================] - 0s 159us/step - loss: 0.0475 - accuracy: 0.9517\n",
      "Epoch 67/130\n",
      "145/145 [==============================] - 0s 166us/step - loss: 0.0353 - accuracy: 0.9724\n",
      "Epoch 68/130\n",
      "145/145 [==============================] - 0s 172us/step - loss: 0.0364 - accuracy: 0.9724\n",
      "Epoch 69/130\n",
      "145/145 [==============================] - 0s 159us/step - loss: 0.0325 - accuracy: 0.9793\n",
      "Epoch 70/130\n",
      "145/145 [==============================] - 0s 172us/step - loss: 0.0326 - accuracy: 0.9724\n",
      "Epoch 71/130\n",
      "145/145 [==============================] - 0s 166us/step - loss: 0.0327 - accuracy: 0.9862\n",
      "Epoch 72/130\n",
      "145/145 [==============================] - ETA: 0s - loss: 0.0068 - accuracy: 1.00 - 0s 166us/step - loss: 0.0313 - accuracy: 0.9724\n",
      "Epoch 73/130\n",
      "145/145 [==============================] - 0s 159us/step - loss: 0.0309 - accuracy: 0.9793\n",
      "Epoch 74/130\n",
      "145/145 [==============================] - 0s 159us/step - loss: 0.0347 - accuracy: 0.9655\n",
      "Epoch 75/130\n",
      "145/145 [==============================] - 0s 152us/step - loss: 0.0332 - accuracy: 0.9655\n",
      "Epoch 76/130\n",
      "145/145 [==============================] - 0s 166us/step - loss: 0.0280 - accuracy: 0.9655\n",
      "Epoch 77/130\n",
      "145/145 [==============================] - 0s 159us/step - loss: 0.0270 - accuracy: 0.9862\n",
      "Epoch 78/130\n",
      "145/145 [==============================] - 0s 166us/step - loss: 0.0270 - accuracy: 0.9793\n",
      "Epoch 79/130\n",
      "145/145 [==============================] - 0s 159us/step - loss: 0.0245 - accuracy: 0.9931\n",
      "Epoch 80/130\n",
      "145/145 [==============================] - 0s 159us/step - loss: 0.0253 - accuracy: 0.9862\n",
      "Epoch 81/130\n",
      "145/145 [==============================] - 0s 193us/step - loss: 0.0252 - accuracy: 0.9862\n",
      "Epoch 82/130\n",
      "145/145 [==============================] - 0s 159us/step - loss: 0.0228 - accuracy: 0.9862\n",
      "Epoch 83/130\n",
      "145/145 [==============================] - 0s 166us/step - loss: 0.0206 - accuracy: 1.0000\n",
      "Epoch 84/130\n",
      "145/145 [==============================] - 0s 179us/step - loss: 0.0211 - accuracy: 0.9931\n",
      "Epoch 85/130\n",
      "145/145 [==============================] - 0s 200us/step - loss: 0.0229 - accuracy: 0.9862\n",
      "Epoch 86/130\n",
      "145/145 [==============================] - 0s 193us/step - loss: 0.0192 - accuracy: 0.9862\n",
      "Epoch 87/130\n",
      "145/145 [==============================] - 0s 193us/step - loss: 0.0198 - accuracy: 1.0000\n",
      "Epoch 88/130\n",
      "145/145 [==============================] - 0s 200us/step - loss: 0.0191 - accuracy: 0.9862\n",
      "Epoch 89/130\n",
      "145/145 [==============================] - 0s 193us/step - loss: 0.0185 - accuracy: 0.9862\n",
      "Epoch 90/130\n",
      "145/145 [==============================] - 0s 200us/step - loss: 0.0167 - accuracy: 0.9931\n",
      "Epoch 91/130\n",
      "145/145 [==============================] - 0s 200us/step - loss: 0.0246 - accuracy: 0.9793\n",
      "Epoch 92/130\n",
      "145/145 [==============================] - 0s 186us/step - loss: 0.0202 - accuracy: 0.9862\n",
      "Epoch 93/130\n",
      "145/145 [==============================] - 0s 172us/step - loss: 0.0163 - accuracy: 0.9862\n",
      "Epoch 94/130\n",
      "145/145 [==============================] - 0s 159us/step - loss: 0.0160 - accuracy: 0.9931\n",
      "Epoch 95/130\n",
      "145/145 [==============================] - 0s 159us/step - loss: 0.0173 - accuracy: 0.9862\n",
      "Epoch 96/130\n",
      "145/145 [==============================] - 0s 159us/step - loss: 0.0200 - accuracy: 0.9793\n",
      "Epoch 97/130\n",
      "145/145 [==============================] - 0s 172us/step - loss: 0.0135 - accuracy: 0.9931\n",
      "Epoch 98/130\n",
      "145/145 [==============================] - 0s 179us/step - loss: 0.0131 - accuracy: 0.9931\n",
      "Epoch 99/130\n",
      "145/145 [==============================] - 0s 186us/step - loss: 0.0137 - accuracy: 0.9931\n",
      "Epoch 100/130\n",
      "145/145 [==============================] - 0s 166us/step - loss: 0.0170 - accuracy: 0.9931\n",
      "Epoch 101/130\n",
      "145/145 [==============================] - 0s 166us/step - loss: 0.0138 - accuracy: 0.9862\n",
      "Epoch 102/130\n",
      "145/145 [==============================] - 0s 159us/step - loss: 0.0127 - accuracy: 0.9931\n",
      "Epoch 103/130\n",
      "145/145 [==============================] - 0s 200us/step - loss: 0.0109 - accuracy: 0.9931\n",
      "Epoch 104/130\n",
      "145/145 [==============================] - 0s 172us/step - loss: 0.0116 - accuracy: 1.0000\n",
      "Epoch 105/130\n",
      "145/145 [==============================] - 0s 179us/step - loss: 0.0112 - accuracy: 0.9931\n",
      "Epoch 106/130\n",
      "145/145 [==============================] - 0s 166us/step - loss: 0.0148 - accuracy: 1.0000\n",
      "Epoch 107/130\n",
      "145/145 [==============================] - 0s 172us/step - loss: 0.0104 - accuracy: 1.0000\n",
      "Epoch 108/130\n",
      "145/145 [==============================] - 0s 172us/step - loss: 0.0108 - accuracy: 1.0000\n",
      "Epoch 109/130\n",
      "145/145 [==============================] - 0s 166us/step - loss: 0.0122 - accuracy: 0.9931\n",
      "Epoch 110/130\n",
      "145/145 [==============================] - 0s 165us/step - loss: 0.0130 - accuracy: 0.9931\n",
      "Epoch 111/130\n",
      "145/145 [==============================] - 0s 166us/step - loss: 0.0102 - accuracy: 0.9931\n",
      "Epoch 112/130\n",
      "145/145 [==============================] - 0s 172us/step - loss: 0.0079 - accuracy: 1.0000\n",
      "Epoch 113/130\n",
      "145/145 [==============================] - 0s 166us/step - loss: 0.0083 - accuracy: 1.0000\n",
      "Epoch 114/130\n",
      "145/145 [==============================] - 0s 152us/step - loss: 0.0092 - accuracy: 1.0000\n",
      "Epoch 115/130\n",
      "145/145 [==============================] - 0s 145us/step - loss: 0.0066 - accuracy: 1.0000\n",
      "Epoch 116/130\n",
      "145/145 [==============================] - 0s 159us/step - loss: 0.0076 - accuracy: 1.0000\n",
      "Epoch 117/130\n",
      "145/145 [==============================] - 0s 166us/step - loss: 0.0069 - accuracy: 1.0000\n",
      "Epoch 118/130\n",
      "145/145 [==============================] - 0s 166us/step - loss: 0.0060 - accuracy: 1.0000\n",
      "Epoch 119/130\n",
      "145/145 [==============================] - 0s 186us/step - loss: 0.0088 - accuracy: 1.0000\n",
      "Epoch 120/130\n",
      "145/145 [==============================] - 0s 172us/step - loss: 0.0063 - accuracy: 1.0000\n",
      "Epoch 121/130\n",
      "145/145 [==============================] - 0s 179us/step - loss: 0.0079 - accuracy: 1.0000\n",
      "Epoch 122/130\n",
      "145/145 [==============================] - 0s 166us/step - loss: 0.0060 - accuracy: 1.0000\n",
      "Epoch 123/130\n",
      "145/145 [==============================] - 0s 166us/step - loss: 0.0055 - accuracy: 1.0000\n",
      "Epoch 124/130\n",
      "145/145 [==============================] - 0s 159us/step - loss: 0.0066 - accuracy: 1.0000\n",
      "Epoch 125/130\n",
      "145/145 [==============================] - 0s 193us/step - loss: 0.0052 - accuracy: 1.0000\n",
      "Epoch 126/130\n",
      "145/145 [==============================] - 0s 172us/step - loss: 0.0054 - accuracy: 1.0000\n",
      "Epoch 127/130\n",
      "145/145 [==============================] - 0s 179us/step - loss: 0.0073 - accuracy: 1.0000\n",
      "Epoch 128/130\n",
      "145/145 [==============================] - 0s 159us/step - loss: 0.0073 - accuracy: 0.9931\n",
      "Epoch 129/130\n",
      "145/145 [==============================] - 0s 145us/step - loss: 0.0054 - accuracy: 1.0000\n",
      "Epoch 130/130\n",
      "145/145 [==============================] - 0s 159us/step - loss: 0.0050 - accuracy: 1.0000\n"
     ]
    },
    {
     "data": {
      "text/plain": [
       "<keras.callbacks.callbacks.History at 0x1bbc1395308>"
      ]
     },
     "execution_count": 12,
     "metadata": {},
     "output_type": "execute_result"
    }
   ],
   "source": [
    "model.fit(X_train, Y_train, epochs=130, batch_size=5)\n"
   ]
  },
  {
   "cell_type": "code",
   "execution_count": 13,
   "metadata": {},
   "outputs": [
    {
     "name": "stdout",
     "output_type": "stream",
     "text": [
      "63/63 [==============================] - 0s 270us/step\n",
      "\n",
      " Test Accuracy: 0.8095\n"
     ]
    }
   ],
   "source": [
    "# 테스트셋에 모델 적용\n",
    "print(\"\\n Test Accuracy: %.4f\" % (model.evaluate(X_test, Y_test)[1]))"
   ]
  },
  {
   "cell_type": "code",
   "execution_count": null,
   "metadata": {},
   "outputs": [],
   "source": []
  }
 ],
 "metadata": {
  "kernelspec": {
   "display_name": "Python 3",
   "language": "python",
   "name": "python3"
  },
  "language_info": {
   "codemirror_mode": {
    "name": "ipython",
    "version": 3
   },
   "file_extension": ".py",
   "mimetype": "text/x-python",
   "name": "python",
   "nbconvert_exporter": "python",
   "pygments_lexer": "ipython3",
   "version": "3.7.6"
  }
 },
 "nbformat": 4,
 "nbformat_minor": 4
}
