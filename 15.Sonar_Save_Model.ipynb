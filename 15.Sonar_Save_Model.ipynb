{
 "cells": [
  {
   "cell_type": "code",
   "execution_count": 1,
   "metadata": {},
   "outputs": [
    {
     "name": "stderr",
     "output_type": "stream",
     "text": [
      "Using TensorFlow backend.\n"
     ]
    }
   ],
   "source": [
    "from keras.models import Sequential, load_model\n",
    "from keras.layers.core import Dense\n",
    "from sklearn.preprocessing import LabelEncoder\n",
    "\n",
    "import pandas as pd\n",
    "import numpy\n",
    "import tensorflow as tf"
   ]
  },
  {
   "cell_type": "code",
   "execution_count": 2,
   "metadata": {},
   "outputs": [],
   "source": [
    "# seed 값 설정\n",
    "seed = 0\n",
    "numpy.random.seed(seed)\n",
    "tf.random.set_seed(3)"
   ]
  },
  {
   "cell_type": "code",
   "execution_count": 3,
   "metadata": {},
   "outputs": [
    {
     "data": {
      "text/plain": [
       "'\\nprint(df.info())\\nprint(df.head())\\n'"
      ]
     },
     "execution_count": 3,
     "metadata": {},
     "output_type": "execute_result"
    }
   ],
   "source": [
    "df = pd.read_csv('./dataset/sonar.csv', header=None)\n",
    "'''\n",
    "print(df.info())\n",
    "print(df.head())\n",
    "'''"
   ]
  },
  {
   "cell_type": "code",
   "execution_count": 4,
   "metadata": {},
   "outputs": [
    {
     "name": "stdout",
     "output_type": "stream",
     "text": [
      "[[0.02 0.0371 0.0428 ... 0.0084 0.009 0.0032]\n",
      " [0.0453 0.0523 0.0843 ... 0.0049 0.0052 0.0044]\n",
      " [0.0262 0.0582 0.1099 ... 0.0164 0.0095 0.0078]\n",
      " ...\n",
      " [0.0522 0.0437 0.018 ... 0.0138 0.0077 0.0031]\n",
      " [0.0303 0.0353 0.049 ... 0.0079 0.0036 0.0048]\n",
      " [0.026 0.0363 0.0136 ... 0.0036 0.0061 0.0115]]\n",
      "['R' 'R' 'R' 'R' 'R' 'R' 'R' 'R' 'R' 'R' 'R' 'R' 'R' 'R' 'R' 'R' 'R' 'R'\n",
      " 'R' 'R' 'R' 'R' 'R' 'R' 'R' 'R' 'R' 'R' 'R' 'R' 'R' 'R' 'R' 'R' 'R' 'R'\n",
      " 'R' 'R' 'R' 'R' 'R' 'R' 'R' 'R' 'R' 'R' 'R' 'R' 'R' 'R' 'R' 'R' 'R' 'R'\n",
      " 'R' 'R' 'R' 'R' 'R' 'R' 'R' 'R' 'R' 'R' 'R' 'R' 'R' 'R' 'R' 'R' 'R' 'R'\n",
      " 'R' 'R' 'R' 'R' 'R' 'R' 'R' 'R' 'R' 'R' 'R' 'R' 'R' 'R' 'R' 'R' 'R' 'R'\n",
      " 'R' 'R' 'R' 'R' 'R' 'R' 'R' 'M' 'M' 'M' 'M' 'M' 'M' 'M' 'M' 'M' 'M' 'M'\n",
      " 'M' 'M' 'M' 'M' 'M' 'M' 'M' 'M' 'M' 'M' 'M' 'M' 'M' 'M' 'M' 'M' 'M' 'M'\n",
      " 'M' 'M' 'M' 'M' 'M' 'M' 'M' 'M' 'M' 'M' 'M' 'M' 'M' 'M' 'M' 'M' 'M' 'M'\n",
      " 'M' 'M' 'M' 'M' 'M' 'M' 'M' 'M' 'M' 'M' 'M' 'M' 'M' 'M' 'M' 'M' 'M' 'M'\n",
      " 'M' 'M' 'M' 'M' 'M' 'M' 'M' 'M' 'M' 'M' 'M' 'M' 'M' 'M' 'M' 'M' 'M' 'M'\n",
      " 'M' 'M' 'M' 'M' 'M' 'M' 'M' 'M' 'M' 'M' 'M' 'M' 'M' 'M' 'M' 'M' 'M' 'M'\n",
      " 'M' 'M' 'M' 'M' 'M' 'M' 'M' 'M' 'M' 'M']\n"
     ]
    }
   ],
   "source": [
    "dataset = df.values\n",
    "X = dataset[:,0:60]\n",
    "Y_obj = dataset[:,60]\n",
    "print(X)\n",
    "print(Y_obj)"
   ]
  },
  {
   "cell_type": "code",
   "execution_count": 5,
   "metadata": {},
   "outputs": [
    {
     "name": "stdout",
     "output_type": "stream",
     "text": [
      "LabelEncoder()\n",
      "[1 1 1 1 1 1 1 1 1 1 1 1 1 1 1 1 1 1 1 1 1 1 1 1 1 1 1 1 1 1 1 1 1 1 1 1 1\n",
      " 1 1 1 1 1 1 1 1 1 1 1 1 1 1 1 1 1 1 1 1 1 1 1 1 1 1 1 1 1 1 1 1 1 1 1 1 1\n",
      " 1 1 1 1 1 1 1 1 1 1 1 1 1 1 1 1 1 1 1 1 1 1 1 0 0 0 0 0 0 0 0 0 0 0 0 0 0\n",
      " 0 0 0 0 0 0 0 0 0 0 0 0 0 0 0 0 0 0 0 0 0 0 0 0 0 0 0 0 0 0 0 0 0 0 0 0 0\n",
      " 0 0 0 0 0 0 0 0 0 0 0 0 0 0 0 0 0 0 0 0 0 0 0 0 0 0 0 0 0 0 0 0 0 0 0 0 0\n",
      " 0 0 0 0 0 0 0 0 0 0 0 0 0 0 0 0 0 0 0 0 0 0 0]\n"
     ]
    }
   ],
   "source": [
    "e = LabelEncoder()\n",
    "e.fit(Y_obj)\n",
    "Y = e.transform(Y_obj)\n",
    "print(e)\n",
    "print(Y)"
   ]
  },
  {
   "cell_type": "code",
   "execution_count": 6,
   "metadata": {},
   "outputs": [],
   "source": [
    "# 학습셋과 테스트셋을 나눔\n",
    "from sklearn.model_selection import train_test_split\n",
    "\n",
    "X_train, X_test, Y_train, Y_test = train_test_split(X, Y, test_size=0.3, random_state=seed)"
   ]
  },
  {
   "cell_type": "code",
   "execution_count": 7,
   "metadata": {},
   "outputs": [],
   "source": [
    "model = Sequential()\n",
    "model.add(Dense(24,  input_dim=60, activation='relu'))\n",
    "model.add(Dense(10, activation='relu'))\n",
    "model.add(Dense(1, activation='sigmoid'))"
   ]
  },
  {
   "cell_type": "code",
   "execution_count": 8,
   "metadata": {},
   "outputs": [],
   "source": [
    "model.compile(loss='mean_squared_error',\n",
    "            optimizer='adam',\n",
    "            metrics=['accuracy'])"
   ]
  },
  {
   "cell_type": "code",
   "execution_count": 9,
   "metadata": {},
   "outputs": [
    {
     "name": "stdout",
     "output_type": "stream",
     "text": [
      "Epoch 1/130\n",
      "145/145 [==============================] - 0s 738us/step - loss: 0.2486 - accuracy: 0.5379\n",
      "Epoch 2/130\n",
      "145/145 [==============================] - 0s 235us/step - loss: 0.2331 - accuracy: 0.5862\n",
      "Epoch 3/130\n",
      "145/145 [==============================] - 0s 221us/step - loss: 0.2220 - accuracy: 0.6897\n",
      "Epoch 4/130\n",
      "145/145 [==============================] - 0s 235us/step - loss: 0.2110 - accuracy: 0.7655\n",
      "Epoch 5/130\n",
      "145/145 [==============================] - 0s 207us/step - loss: 0.2017 - accuracy: 0.7172\n",
      "Epoch 6/130\n",
      "145/145 [==============================] - 0s 221us/step - loss: 0.1906 - accuracy: 0.7586\n",
      "Epoch 7/130\n",
      "145/145 [==============================] - 0s 214us/step - loss: 0.1847 - accuracy: 0.7517\n",
      "Epoch 8/130\n",
      "145/145 [==============================] - 0s 207us/step - loss: 0.1736 - accuracy: 0.7379\n",
      "Epoch 9/130\n",
      "145/145 [==============================] - 0s 227us/step - loss: 0.1637 - accuracy: 0.8000\n",
      "Epoch 10/130\n",
      "145/145 [==============================] - 0s 221us/step - loss: 0.1584 - accuracy: 0.8069\n",
      "Epoch 11/130\n",
      "145/145 [==============================] - 0s 193us/step - loss: 0.1530 - accuracy: 0.8207\n",
      "Epoch 12/130\n",
      "145/145 [==============================] - 0s 214us/step - loss: 0.1534 - accuracy: 0.7586\n",
      "Epoch 13/130\n",
      "145/145 [==============================] - 0s 228us/step - loss: 0.1453 - accuracy: 0.8276\n",
      "Epoch 14/130\n",
      "145/145 [==============================] - 0s 207us/step - loss: 0.1367 - accuracy: 0.8483\n",
      "Epoch 15/130\n",
      "145/145 [==============================] - 0s 200us/step - loss: 0.1332 - accuracy: 0.8483\n",
      "Epoch 16/130\n",
      "145/145 [==============================] - 0s 200us/step - loss: 0.1295 - accuracy: 0.8345\n",
      "Epoch 17/130\n",
      "145/145 [==============================] - 0s 214us/step - loss: 0.1273 - accuracy: 0.8483\n",
      "Epoch 18/130\n",
      "145/145 [==============================] - 0s 207us/step - loss: 0.1247 - accuracy: 0.8621\n",
      "Epoch 19/130\n",
      "145/145 [==============================] - 0s 207us/step - loss: 0.1223 - accuracy: 0.8483\n",
      "Epoch 20/130\n",
      "145/145 [==============================] - 0s 214us/step - loss: 0.1181 - accuracy: 0.8690\n",
      "Epoch 21/130\n",
      "145/145 [==============================] - 0s 193us/step - loss: 0.1218 - accuracy: 0.8552\n",
      "Epoch 22/130\n",
      "145/145 [==============================] - 0s 207us/step - loss: 0.1161 - accuracy: 0.8483\n",
      "Epoch 23/130\n",
      "145/145 [==============================] - 0s 200us/step - loss: 0.1132 - accuracy: 0.8552\n",
      "Epoch 24/130\n",
      "145/145 [==============================] - 0s 214us/step - loss: 0.1088 - accuracy: 0.8621\n",
      "Epoch 25/130\n",
      "145/145 [==============================] - 0s 214us/step - loss: 0.1067 - accuracy: 0.8621\n",
      "Epoch 26/130\n",
      "145/145 [==============================] - 0s 228us/step - loss: 0.1060 - accuracy: 0.8621\n",
      "Epoch 27/130\n",
      "145/145 [==============================] - 0s 241us/step - loss: 0.1020 - accuracy: 0.8690\n",
      "Epoch 28/130\n",
      "145/145 [==============================] - 0s 193us/step - loss: 0.1049 - accuracy: 0.8621\n",
      "Epoch 29/130\n",
      "145/145 [==============================] - 0s 193us/step - loss: 0.0986 - accuracy: 0.8759\n",
      "Epoch 30/130\n",
      "145/145 [==============================] - 0s 207us/step - loss: 0.1048 - accuracy: 0.8759\n",
      "Epoch 31/130\n",
      "145/145 [==============================] - 0s 221us/step - loss: 0.0983 - accuracy: 0.8690\n",
      "Epoch 32/130\n",
      "145/145 [==============================] - 0s 200us/step - loss: 0.0971 - accuracy: 0.8759\n",
      "Epoch 33/130\n",
      "145/145 [==============================] - 0s 221us/step - loss: 0.0922 - accuracy: 0.8897\n",
      "Epoch 34/130\n",
      "145/145 [==============================] - 0s 207us/step - loss: 0.0923 - accuracy: 0.8690\n",
      "Epoch 35/130\n",
      "145/145 [==============================] - 0s 186us/step - loss: 0.0896 - accuracy: 0.8897\n",
      "Epoch 36/130\n",
      "145/145 [==============================] - 0s 186us/step - loss: 0.0916 - accuracy: 0.8621\n",
      "Epoch 37/130\n",
      "145/145 [==============================] - 0s 200us/step - loss: 0.0905 - accuracy: 0.8897\n",
      "Epoch 38/130\n",
      "145/145 [==============================] - 0s 214us/step - loss: 0.0825 - accuracy: 0.8966\n",
      "Epoch 39/130\n",
      "145/145 [==============================] - 0s 214us/step - loss: 0.0807 - accuracy: 0.8897\n",
      "Epoch 40/130\n",
      "145/145 [==============================] - 0s 186us/step - loss: 0.0770 - accuracy: 0.8966\n",
      "Epoch 41/130\n",
      "145/145 [==============================] - 0s 186us/step - loss: 0.0749 - accuracy: 0.8966\n",
      "Epoch 42/130\n",
      "145/145 [==============================] - 0s 214us/step - loss: 0.0716 - accuracy: 0.9103\n",
      "Epoch 43/130\n",
      "145/145 [==============================] - 0s 221us/step - loss: 0.0695 - accuracy: 0.9172\n",
      "Epoch 44/130\n",
      "145/145 [==============================] - 0s 220us/step - loss: 0.0697 - accuracy: 0.9172\n",
      "Epoch 45/130\n",
      "145/145 [==============================] - 0s 213us/step - loss: 0.0675 - accuracy: 0.9103\n",
      "Epoch 46/130\n",
      "145/145 [==============================] - 0s 227us/step - loss: 0.0665 - accuracy: 0.9103\n",
      "Epoch 47/130\n",
      "145/145 [==============================] - 0s 221us/step - loss: 0.0701 - accuracy: 0.9103\n",
      "Epoch 48/130\n",
      "145/145 [==============================] - 0s 220us/step - loss: 0.0589 - accuracy: 0.9517\n",
      "Epoch 49/130\n",
      "145/145 [==============================] - 0s 221us/step - loss: 0.0618 - accuracy: 0.9241\n",
      "Epoch 50/130\n",
      "145/145 [==============================] - 0s 193us/step - loss: 0.0611 - accuracy: 0.9379\n",
      "Epoch 51/130\n",
      "145/145 [==============================] - 0s 193us/step - loss: 0.0568 - accuracy: 0.9448\n",
      "Epoch 52/130\n",
      "145/145 [==============================] - 0s 262us/step - loss: 0.0541 - accuracy: 0.9379\n",
      "Epoch 53/130\n",
      "145/145 [==============================] - 0s 228us/step - loss: 0.0531 - accuracy: 0.9310\n",
      "Epoch 54/130\n",
      "145/145 [==============================] - 0s 418us/step - loss: 0.0502 - accuracy: 0.9586\n",
      "Epoch 55/130\n",
      "145/145 [==============================] - 0s 290us/step - loss: 0.0480 - accuracy: 0.9517\n",
      "Epoch 56/130\n",
      "145/145 [==============================] - 0s 207us/step - loss: 0.0463 - accuracy: 0.9517\n",
      "Epoch 57/130\n",
      "145/145 [==============================] - 0s 200us/step - loss: 0.0474 - accuracy: 0.9448\n",
      "Epoch 58/130\n",
      "145/145 [==============================] - 0s 186us/step - loss: 0.0451 - accuracy: 0.9655\n",
      "Epoch 59/130\n",
      "145/145 [==============================] - 0s 172us/step - loss: 0.0453 - accuracy: 0.9517\n",
      "Epoch 60/130\n",
      "145/145 [==============================] - 0s 179us/step - loss: 0.0458 - accuracy: 0.9655\n",
      "Epoch 61/130\n",
      "145/145 [==============================] - 0s 166us/step - loss: 0.0405 - accuracy: 0.9586\n",
      "Epoch 62/130\n",
      "145/145 [==============================] - 0s 166us/step - loss: 0.0410 - accuracy: 0.9586\n",
      "Epoch 63/130\n",
      "145/145 [==============================] - 0s 172us/step - loss: 0.0369 - accuracy: 0.9655\n",
      "Epoch 64/130\n",
      "145/145 [==============================] - 0s 172us/step - loss: 0.0369 - accuracy: 0.9655\n",
      "Epoch 65/130\n",
      "145/145 [==============================] - 0s 172us/step - loss: 0.0389 - accuracy: 0.9724\n",
      "Epoch 66/130\n",
      "145/145 [==============================] - 0s 179us/step - loss: 0.0434 - accuracy: 0.9586\n",
      "Epoch 67/130\n",
      "145/145 [==============================] - 0s 187us/step - loss: 0.0315 - accuracy: 0.9724\n",
      "Epoch 68/130\n",
      "145/145 [==============================] - 0s 172us/step - loss: 0.0333 - accuracy: 0.9724\n",
      "Epoch 69/130\n",
      "145/145 [==============================] - 0s 159us/step - loss: 0.0295 - accuracy: 0.9724\n",
      "Epoch 70/130\n",
      "145/145 [==============================] - 0s 179us/step - loss: 0.0279 - accuracy: 0.9793\n",
      "Epoch 71/130\n",
      "145/145 [==============================] - 0s 241us/step - loss: 0.0286 - accuracy: 0.9862\n",
      "Epoch 72/130\n",
      "145/145 [==============================] - 0s 214us/step - loss: 0.0268 - accuracy: 0.9793\n",
      "Epoch 73/130\n",
      "145/145 [==============================] - 0s 248us/step - loss: 0.0260 - accuracy: 0.9862\n",
      "Epoch 74/130\n",
      "145/145 [==============================] - 0s 248us/step - loss: 0.0316 - accuracy: 0.9724\n",
      "Epoch 75/130\n",
      "145/145 [==============================] - 0s 234us/step - loss: 0.0303 - accuracy: 0.9586\n",
      "Epoch 76/130\n",
      "145/145 [==============================] - 0s 262us/step - loss: 0.0246 - accuracy: 0.9793\n",
      "Epoch 77/130\n",
      "145/145 [==============================] - 0s 214us/step - loss: 0.0238 - accuracy: 0.9862\n",
      "Epoch 78/130\n",
      "145/145 [==============================] - 0s 186us/step - loss: 0.0240 - accuracy: 0.9862\n",
      "Epoch 79/130\n",
      "145/145 [==============================] - 0s 186us/step - loss: 0.0212 - accuracy: 0.9862\n",
      "Epoch 80/130\n",
      "145/145 [==============================] - 0s 172us/step - loss: 0.0209 - accuracy: 0.9862\n",
      "Epoch 81/130\n",
      "145/145 [==============================] - 0s 179us/step - loss: 0.0216 - accuracy: 0.9862\n",
      "Epoch 82/130\n",
      "145/145 [==============================] - 0s 186us/step - loss: 0.0187 - accuracy: 0.9862\n",
      "Epoch 83/130\n",
      "145/145 [==============================] - 0s 234us/step - loss: 0.0176 - accuracy: 1.0000\n",
      "Epoch 84/130\n",
      "145/145 [==============================] - 0s 221us/step - loss: 0.0183 - accuracy: 0.9931\n",
      "Epoch 85/130\n",
      "145/145 [==============================] - 0s 207us/step - loss: 0.0190 - accuracy: 0.9931\n",
      "Epoch 86/130\n",
      "145/145 [==============================] - 0s 228us/step - loss: 0.0162 - accuracy: 1.0000\n",
      "Epoch 87/130\n",
      "145/145 [==============================] - 0s 228us/step - loss: 0.0173 - accuracy: 0.9931\n",
      "Epoch 88/130\n",
      "145/145 [==============================] - 0s 214us/step - loss: 0.0165 - accuracy: 0.9862\n",
      "Epoch 89/130\n",
      "145/145 [==============================] - 0s 207us/step - loss: 0.0151 - accuracy: 0.9862\n",
      "Epoch 90/130\n",
      "145/145 [==============================] - 0s 221us/step - loss: 0.0138 - accuracy: 0.9931\n",
      "Epoch 91/130\n",
      "145/145 [==============================] - 0s 200us/step - loss: 0.0201 - accuracy: 0.9793\n",
      "Epoch 92/130\n",
      "145/145 [==============================] - 0s 186us/step - loss: 0.0162 - accuracy: 1.0000\n",
      "Epoch 93/130\n",
      "145/145 [==============================] - 0s 200us/step - loss: 0.0137 - accuracy: 0.9931\n",
      "Epoch 94/130\n",
      "145/145 [==============================] - 0s 200us/step - loss: 0.0132 - accuracy: 0.9931\n",
      "Epoch 95/130\n",
      "145/145 [==============================] - 0s 200us/step - loss: 0.0134 - accuracy: 0.9862\n",
      "Epoch 96/130\n",
      "145/145 [==============================] - 0s 200us/step - loss: 0.0159 - accuracy: 0.9862\n",
      "Epoch 97/130\n",
      "145/145 [==============================] - 0s 186us/step - loss: 0.0110 - accuracy: 0.9931\n",
      "Epoch 98/130\n",
      "145/145 [==============================] - 0s 193us/step - loss: 0.0102 - accuracy: 1.0000\n",
      "Epoch 99/130\n",
      "145/145 [==============================] - 0s 179us/step - loss: 0.0118 - accuracy: 0.9931\n",
      "Epoch 100/130\n",
      "145/145 [==============================] - 0s 179us/step - loss: 0.0137 - accuracy: 0.9931\n",
      "Epoch 101/130\n",
      "145/145 [==============================] - 0s 179us/step - loss: 0.0115 - accuracy: 0.9931\n",
      "Epoch 102/130\n",
      "145/145 [==============================] - 0s 179us/step - loss: 0.0103 - accuracy: 0.9931\n",
      "Epoch 103/130\n",
      "145/145 [==============================] - 0s 159us/step - loss: 0.0088 - accuracy: 1.0000\n",
      "Epoch 104/130\n",
      "145/145 [==============================] - 0s 166us/step - loss: 0.0094 - accuracy: 0.9931\n",
      "Epoch 105/130\n",
      "145/145 [==============================] - 0s 175us/step - loss: 0.0093 - accuracy: 0.9931\n",
      "Epoch 106/130\n",
      "145/145 [==============================] - 0s 166us/step - loss: 0.0107 - accuracy: 1.0000\n",
      "Epoch 107/130\n",
      "145/145 [==============================] - 0s 186us/step - loss: 0.0080 - accuracy: 1.0000\n",
      "Epoch 108/130\n",
      "145/145 [==============================] - 0s 159us/step - loss: 0.0087 - accuracy: 1.0000\n",
      "Epoch 109/130\n",
      "145/145 [==============================] - 0s 179us/step - loss: 0.0106 - accuracy: 0.9931\n",
      "Epoch 110/130\n",
      "145/145 [==============================] - 0s 172us/step - loss: 0.0105 - accuracy: 1.0000\n",
      "Epoch 111/130\n",
      "145/145 [==============================] - 0s 166us/step - loss: 0.0081 - accuracy: 1.0000\n",
      "Epoch 112/130\n",
      "145/145 [==============================] - 0s 186us/step - loss: 0.0068 - accuracy: 1.0000\n",
      "Epoch 113/130\n",
      "145/145 [==============================] - 0s 159us/step - loss: 0.0073 - accuracy: 1.0000\n",
      "Epoch 114/130\n",
      "145/145 [==============================] - 0s 172us/step - loss: 0.0078 - accuracy: 1.0000\n",
      "Epoch 115/130\n",
      "145/145 [==============================] - 0s 172us/step - loss: 0.0057 - accuracy: 1.0000\n",
      "Epoch 116/130\n",
      "145/145 [==============================] - 0s 172us/step - loss: 0.0063 - accuracy: 1.0000\n",
      "Epoch 117/130\n",
      "145/145 [==============================] - 0s 179us/step - loss: 0.0056 - accuracy: 1.0000\n",
      "Epoch 118/130\n",
      "145/145 [==============================] - 0s 186us/step - loss: 0.0051 - accuracy: 1.0000\n",
      "Epoch 119/130\n",
      "145/145 [==============================] - 0s 179us/step - loss: 0.0067 - accuracy: 1.0000\n",
      "Epoch 120/130\n",
      "145/145 [==============================] - 0s 159us/step - loss: 0.0054 - accuracy: 1.0000\n",
      "Epoch 121/130\n",
      "145/145 [==============================] - 0s 179us/step - loss: 0.0067 - accuracy: 1.0000\n",
      "Epoch 122/130\n",
      "145/145 [==============================] - 0s 166us/step - loss: 0.0049 - accuracy: 1.0000\n",
      "Epoch 123/130\n",
      "145/145 [==============================] - 0s 172us/step - loss: 0.0044 - accuracy: 1.0000\n",
      "Epoch 124/130\n",
      "145/145 [==============================] - 0s 179us/step - loss: 0.0050 - accuracy: 1.0000\n",
      "Epoch 125/130\n",
      "145/145 [==============================] - 0s 166us/step - loss: 0.0040 - accuracy: 1.0000\n",
      "Epoch 126/130\n",
      "145/145 [==============================] - 0s 172us/step - loss: 0.0048 - accuracy: 1.0000\n",
      "Epoch 127/130\n",
      "145/145 [==============================] - 0s 200us/step - loss: 0.0063 - accuracy: 1.0000\n",
      "Epoch 128/130\n",
      "145/145 [==============================] - 0s 152us/step - loss: 0.0058 - accuracy: 0.9931\n",
      "Epoch 129/130\n",
      "145/145 [==============================] - 0s 166us/step - loss: 0.0044 - accuracy: 1.0000\n",
      "Epoch 130/130\n",
      "145/145 [==============================] - 0s 179us/step - loss: 0.0042 - accuracy: 1.0000\n"
     ]
    },
    {
     "data": {
      "text/plain": [
       "<keras.callbacks.callbacks.History at 0x14c6c9af948>"
      ]
     },
     "execution_count": 9,
     "metadata": {},
     "output_type": "execute_result"
    }
   ],
   "source": [
    "model.fit(X_train, Y_train, epochs=130, batch_size=5)"
   ]
  },
  {
   "cell_type": "code",
   "execution_count": 10,
   "metadata": {},
   "outputs": [],
   "source": [
    "model.save('my_model.h5')  # 모델을 컴퓨터에 저장"
   ]
  },
  {
   "cell_type": "code",
   "execution_count": 11,
   "metadata": {},
   "outputs": [],
   "source": [
    "del model       # 테스트를 위해 메모리 내의 모델을 삭제\n",
    "model = load_model('my_model.h5') # 모델을 새로 불러옴"
   ]
  },
  {
   "cell_type": "code",
   "execution_count": 12,
   "metadata": {},
   "outputs": [
    {
     "name": "stdout",
     "output_type": "stream",
     "text": [
      "63/63 [==============================] - 0s 302us/step\n",
      "\n",
      " Test Accuracy: 0.7937\n"
     ]
    }
   ],
   "source": [
    "print(\"\\n Test Accuracy: %.4f\" % (model.evaluate(X_test, Y_test)[1]))  # 불러온 모델로 테스트 실행"
   ]
  },
  {
   "cell_type": "code",
   "execution_count": null,
   "metadata": {},
   "outputs": [],
   "source": []
  }
 ],
 "metadata": {
  "kernelspec": {
   "display_name": "Python 3",
   "language": "python",
   "name": "python3"
  },
  "language_info": {
   "codemirror_mode": {
    "name": "ipython",
    "version": 3
   },
   "file_extension": ".py",
   "mimetype": "text/x-python",
   "name": "python",
   "nbconvert_exporter": "python",
   "pygments_lexer": "ipython3",
   "version": "3.7.6"
  }
 },
 "nbformat": 4,
 "nbformat_minor": 4
}
