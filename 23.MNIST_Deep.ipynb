{
 "cells": [
  {
   "cell_type": "code",
   "execution_count": 1,
   "id": "3987522f",
   "metadata": {},
   "outputs": [],
   "source": [
    "from tensorflow.keras.datasets import mnist\n",
    "#from tensorflow.keras.utils import np_utils\n",
    "from tensorflow.python.keras.utils.np_utils import to_categorical\n",
    "from tensorflow.keras.models import Sequential\n",
    "from tensorflow.keras.layers import Dense, Dropout, Flatten, Conv2D, MaxPooling2D\n",
    "from tensorflow.keras.callbacks import ModelCheckpoint,EarlyStopping\n",
    "\n",
    "import matplotlib.pyplot as plt\n",
    "import numpy as np\n",
    "import os\n",
    "import tensorflow as tf\n",
    "\n",
    "# seed 값 설정\n",
    "seed = 0\n",
    "np.random.seed(seed)\n",
    "tf.random.set_seed(3)"
   ]
  },
  {
   "cell_type": "code",
   "execution_count": 2,
   "id": "d0797b0e",
   "metadata": {},
   "outputs": [],
   "source": [
    "# 데이터 불러오기\n",
    "(X_train, Y_train), (X_test, Y_test) = mnist.load_data()\n",
    "X_train = X_train.reshape(X_train.shape[0], 28, 28, 1).astype('float32') / 255\n",
    "X_test = X_test.reshape(X_test.shape[0], 28, 28, 1).astype('float32') / 255\n",
    "Y_train = to_categorical(Y_train)\n",
    "Y_test = to_categorical(Y_test)"
   ]
  },
  {
   "cell_type": "code",
   "execution_count": 3,
   "id": "01fbf806",
   "metadata": {},
   "outputs": [],
   "source": [
    "# 컨볼루션 신경망의 설정\n",
    "model = Sequential()\n",
    "model.add(Conv2D(32, kernel_size=(3, 3), input_shape=(28, 28, 1), activation='relu'))\n",
    "model.add(Conv2D(64, (3, 3), activation='relu'))\n",
    "model.add(MaxPooling2D(pool_size=2))\n",
    "model.add(Dropout(0.25))\n",
    "model.add(Flatten())\n",
    "model.add(Dense(128,  activation='relu'))\n",
    "model.add(Dropout(0.5))\n",
    "model.add(Dense(10, activation='softmax'))"
   ]
  },
  {
   "cell_type": "code",
   "execution_count": 4,
   "id": "40f75beb",
   "metadata": {},
   "outputs": [],
   "source": [
    "model.compile(loss='categorical_crossentropy',\n",
    "              optimizer='adam',\n",
    "              metrics=['accuracy'])"
   ]
  },
  {
   "cell_type": "code",
   "execution_count": 5,
   "id": "309ad735",
   "metadata": {},
   "outputs": [],
   "source": [
    "# 모델 최적화 설정\n",
    "MODEL_DIR = './model/'\n",
    "if not os.path.exists(MODEL_DIR):\n",
    "    os.mkdir(MODEL_DIR)\n",
    "\n",
    "modelpath=\"./model/{epoch:02d}-{val_loss:.4f}.hdf5\"\n",
    "checkpointer = ModelCheckpoint(filepath=modelpath, monitor='val_loss', verbose=1, save_best_only=True)\n",
    "early_stopping_callback = EarlyStopping(monitor='val_loss', patience=10)"
   ]
  },
  {
   "cell_type": "code",
   "execution_count": 6,
   "id": "023c767d",
   "metadata": {},
   "outputs": [
    {
     "name": "stdout",
     "output_type": "stream",
     "text": [
      "\n",
      "Epoch 00001: val_loss improved from inf to 0.06426, saving model to ./model/01-0.0643.hdf5\n",
      "\n",
      "Epoch 00002: val_loss improved from 0.06426 to 0.03808, saving model to ./model/02-0.0381.hdf5\n",
      "\n",
      "Epoch 00003: val_loss improved from 0.03808 to 0.03286, saving model to ./model/03-0.0329.hdf5\n",
      "\n",
      "Epoch 00004: val_loss improved from 0.03286 to 0.03077, saving model to ./model/04-0.0308.hdf5\n",
      "\n",
      "Epoch 00005: val_loss did not improve from 0.03077\n",
      "\n",
      "Epoch 00006: val_loss did not improve from 0.03077\n",
      "\n",
      "Epoch 00007: val_loss improved from 0.03077 to 0.02972, saving model to ./model/07-0.0297.hdf5\n",
      "\n",
      "Epoch 00008: val_loss improved from 0.02972 to 0.02796, saving model to ./model/08-0.0280.hdf5\n",
      "\n",
      "Epoch 00009: val_loss improved from 0.02796 to 0.02779, saving model to ./model/09-0.0278.hdf5\n",
      "\n",
      "Epoch 00010: val_loss did not improve from 0.02779\n",
      "\n",
      "Epoch 00011: val_loss improved from 0.02779 to 0.02708, saving model to ./model/11-0.0271.hdf5\n",
      "\n",
      "Epoch 00012: val_loss did not improve from 0.02708\n",
      "\n",
      "Epoch 00013: val_loss did not improve from 0.02708\n",
      "\n",
      "Epoch 00014: val_loss improved from 0.02708 to 0.02690, saving model to ./model/14-0.0269.hdf5\n",
      "\n",
      "Epoch 00015: val_loss did not improve from 0.02690\n",
      "\n",
      "Epoch 00016: val_loss did not improve from 0.02690\n",
      "\n",
      "Epoch 00017: val_loss improved from 0.02690 to 0.02665, saving model to ./model/17-0.0267.hdf5\n",
      "\n",
      "Epoch 00018: val_loss did not improve from 0.02665\n",
      "\n",
      "Epoch 00019: val_loss improved from 0.02665 to 0.02592, saving model to ./model/19-0.0259.hdf5\n",
      "\n",
      "Epoch 00020: val_loss did not improve from 0.02592\n",
      "\n",
      "Epoch 00021: val_loss did not improve from 0.02592\n",
      "\n",
      "Epoch 00022: val_loss did not improve from 0.02592\n",
      "\n",
      "Epoch 00023: val_loss did not improve from 0.02592\n",
      "\n",
      "Epoch 00024: val_loss did not improve from 0.02592\n",
      "\n",
      "Epoch 00025: val_loss did not improve from 0.02592\n",
      "\n",
      "Epoch 00026: val_loss did not improve from 0.02592\n",
      "\n",
      "Epoch 00027: val_loss did not improve from 0.02592\n",
      "\n",
      "Epoch 00028: val_loss did not improve from 0.02592\n",
      "\n",
      "Epoch 00029: val_loss did not improve from 0.02592\n"
     ]
    }
   ],
   "source": [
    "# 모델의 실행\n",
    "history = model.fit(X_train, Y_train, validation_data=(X_test, Y_test), epochs=30, batch_size=200, verbose=0, callbacks=[early_stopping_callback,checkpointer])"
   ]
  },
  {
   "cell_type": "code",
   "execution_count": 7,
   "id": "417675e0",
   "metadata": {},
   "outputs": [
    {
     "name": "stdout",
     "output_type": "stream",
     "text": [
      "10000/10000 [==============================] - 1s 125us/sample - loss: 0.0315 - accuracy: 0.9936\n",
      "\n",
      " Test Accuracy: 0.9936\n"
     ]
    }
   ],
   "source": [
    "# 테스트 정확도 출력\n",
    "print(\"\\n Test Accuracy: %.4f\" % (model.evaluate(X_test, Y_test)[1]))"
   ]
  },
  {
   "cell_type": "code",
   "execution_count": 8,
   "id": "7a823935",
   "metadata": {},
   "outputs": [],
   "source": [
    "# 테스트 셋의 오차\n",
    "y_vloss = history.history['val_loss']\n",
    "# 학습셋의 오차\n",
    "y_loss = history.history['loss']"
   ]
  },
  {
   "cell_type": "code",
   "execution_count": 10,
   "id": "fca1623b",
   "metadata": {},
   "outputs": [
    {
     "data": {
      "image/png": "[encoded data removed]",
      "text/plain": [
       "<Figure size 864x864 with 1 Axes>"
      ]
     },
     "metadata": {
      "needs_background": "light"
     },
     "output_type": "display_data"
    }
   ],
   "source": [
    "# 그래프로 표현\n",
    "x_len = np.arange(len(y_loss))\n",
    "plt.figure(figsize=(12,12))\n",
    "plt.plot(x_len, y_vloss, marker='.', c=\"red\", label='Testset_loss')\n",
    "plt.plot(x_len, y_loss, marker='.', c=\"blue\", label='Trainset_loss')\n",
    "# 그래프에 그리드를 주고 레이블을 표시\n",
    "plt.legend(loc='upper right')\n",
    "plt.grid()\n",
    "plt.xlabel('epoch')\n",
    "plt.ylabel('loss')\n",
    "plt.show()"
   ]
  },
  {
   "cell_type": "code",
   "execution_count": null,
   "id": "5ee5df63",
   "metadata": {},
   "outputs": [],
   "source": []
  },
  {
   "cell_type": "code",
   "execution_count": null,
   "id": "c57b2ba4",
   "metadata": {},
   "outputs": [],
   "source": []
  },
  {
   "cell_type": "code",
   "execution_count": null,
   "id": "e53c9f6c",
   "metadata": {},
   "outputs": [],
   "source": []
  }
 ],
 "metadata": {
  "kernelspec": {
   "display_name": "Python 3",
   "language": "python",
   "name": "python3"
  },
  "language_info": {
   "codemirror_mode": {
    "name": "ipython",
    "version": 3
   },
   "file_extension": ".py",
   "mimetype": "text/x-python",
   "name": "python",
   "nbconvert_exporter": "python",
   "pygments_lexer": "ipython3",
   "version": "3.7.9"
  }
 },
 "nbformat": 4,
 "nbformat_minor": 5
}
