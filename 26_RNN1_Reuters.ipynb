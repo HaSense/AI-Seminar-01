{
 "cells": [
  {
   "cell_type": "code",
   "execution_count": 1,
   "metadata": {},
   "outputs": [
    {
     "name": "stderr",
     "output_type": "stream",
     "text": [
      "Using TensorFlow backend.\n"
     ]
    }
   ],
   "source": [
    "# 코드 내부에 한글을 사용가능 하게 해주는 부분입니다.\n",
    "import numpy\n",
    "import tensorflow as tf\n",
    "import matplotlib.pyplot as plt\n",
    "\n",
    "# 로이터 뉴스 데이터셋 불러오기\n",
    "from keras.datasets import reuters\n",
    "from keras.models import Sequential\n",
    "#from tensorflow.keras.models import Sequential\n",
    "#from tensorflow.keras.layers import Dense,LSTM,Embedding\n",
    "from keras.layers import Dense, LSTM, Embedding\n",
    "from keras.preprocessing import sequence\n",
    "from keras.utils import np_utils"
   ]
  },
  {
   "cell_type": "code",
   "execution_count": 2,
   "metadata": {},
   "outputs": [],
   "source": [
    "# seed 값 설정\n",
    "seed = 0\n",
    "numpy.random.seed(seed)\n",
    "tf.random.set_seed(3)\n",
    "\n",
    "# 불러온 데이터를 학습셋, 테스트셋으로 나누기\n",
    "(X_train, Y_train), (X_test, Y_test) = reuters.load_data(num_words=1000, test_split=0.2)"
   ]
  },
  {
   "cell_type": "code",
   "execution_count": 4,
   "metadata": {},
   "outputs": [
    {
     "name": "stdout",
     "output_type": "stream",
     "text": [
      "46 카테고리\n",
      "8982 학습용 뉴스 기사\n",
      "2246 테스트용 뉴스 기사\n",
      "[1, 2, 2, 8, 43, 10, 447, 5, 25, 207, 270, 5, 2, 111, 16, 369, 186, 90, 67, 7, 89, 5, 19, 102, 6, 19, 124, 15, 90, 67, 84, 22, 482, 26, 7, 48, 4, 49, 8, 864, 39, 209, 154, 6, 151, 6, 83, 11, 15, 22, 155, 11, 15, 7, 48, 9, 2, 2, 504, 6, 258, 6, 272, 11, 15, 22, 134, 44, 11, 15, 16, 8, 197, 2, 90, 67, 52, 29, 209, 30, 32, 132, 6, 109, 15, 17, 12]\n"
     ]
    }
   ],
   "source": [
    "# 데이터 확인하기\n",
    "category = numpy.max(Y_train) + 1\n",
    "print(category, '카테고리')\n",
    "print(len(X_train), '학습용 뉴스 기사')\n",
    "print(len(X_test), '테스트용 뉴스 기사')\n",
    "print(X_train[0])"
   ]
  },
  {
   "cell_type": "code",
   "execution_count": 5,
   "metadata": {},
   "outputs": [],
   "source": [
    "# 데이터 전처리\n",
    "x_train = sequence.pad_sequences(X_train, maxlen=100)\n",
    "x_test = sequence.pad_sequences(X_test, maxlen=100)\n",
    "y_train = np_utils.to_categorical(Y_train)\n",
    "y_test = np_utils.to_categorical(Y_test)\n",
    "\n",
    "# 모델의 설정\n",
    "model = Sequential()\n",
    "model.add(Embedding(1000, 100))\n",
    "model.add(LSTM(100, activation='tanh'))\n",
    "model.add(Dense(46, activation='softmax'))\n",
    "\n",
    "# 모델의 컴파일\n",
    "model.compile(loss='categorical_crossentropy',\n",
    "            optimizer='adam',\n",
    "            metrics=['accuracy'])"
   ]
  },
  {
   "cell_type": "code",
   "execution_count": 6,
   "metadata": {},
   "outputs": [
    {
     "name": "stderr",
     "output_type": "stream",
     "text": [
      "C:\\Users\\shha\\Anaconda3\\envs\\keras\\lib\\site-packages\\tensorflow_core\\python\\framework\\indexed_slices.py:433: UserWarning: Converting sparse IndexedSlices to a dense Tensor of unknown shape. This may consume a large amount of memory.\n",
      "  \"Converting sparse IndexedSlices to a dense Tensor of unknown shape. \"\n"
     ]
    },
    {
     "name": "stdout",
     "output_type": "stream",
     "text": [
      "Train on 8982 samples, validate on 2246 samples\n",
      "Epoch 1/20\n",
      "8982/8982 [==============================] - 15s 2ms/step - loss: 2.5530 - accuracy: 0.3719 - val_loss: 2.0603 - val_accuracy: 0.4938\n",
      "Epoch 2/20\n",
      "8982/8982 [==============================] - 18s 2ms/step - loss: 1.9531 - accuracy: 0.4893 - val_loss: 1.8367 - val_accuracy: 0.5254\n",
      "Epoch 3/20\n",
      "8982/8982 [==============================] - 18s 2ms/step - loss: 1.8062 - accuracy: 0.5247 - val_loss: 1.8454 - val_accuracy: 0.5321\n",
      "Epoch 4/20\n",
      "8982/8982 [==============================] - 18s 2ms/step - loss: 1.7399 - accuracy: 0.5473 - val_loss: 1.7564 - val_accuracy: 0.5414\n",
      "Epoch 5/20\n",
      "8982/8982 [==============================] - 18s 2ms/step - loss: 1.6671 - accuracy: 0.5681 - val_loss: 1.6793 - val_accuracy: 0.5801\n",
      "Epoch 6/20\n",
      "8982/8982 [==============================] - 18s 2ms/step - loss: 1.6270 - accuracy: 0.5825 - val_loss: 1.6802 - val_accuracy: 0.5828\n",
      "Epoch 7/20\n",
      "8982/8982 [==============================] - 18s 2ms/step - loss: 1.5162 - accuracy: 0.6166 - val_loss: 1.5853 - val_accuracy: 0.5988\n",
      "Epoch 8/20\n",
      "8982/8982 [==============================] - 18s 2ms/step - loss: 1.4148 - accuracy: 0.6450 - val_loss: 1.5097 - val_accuracy: 0.6126\n",
      "Epoch 9/20\n",
      "8982/8982 [==============================] - 18s 2ms/step - loss: 1.3585 - accuracy: 0.6609 - val_loss: 1.4208 - val_accuracy: 0.6456\n",
      "Epoch 10/20\n",
      "8982/8982 [==============================] - 18s 2ms/step - loss: 1.2577 - accuracy: 0.6835 - val_loss: 1.3718 - val_accuracy: 0.6576\n",
      "Epoch 11/20\n",
      "8982/8982 [==============================] - 21s 2ms/step - loss: 1.1946 - accuracy: 0.6967 - val_loss: 1.3072 - val_accuracy: 0.6625\n",
      "Epoch 12/20\n",
      "8982/8982 [==============================] - 17s 2ms/step - loss: 1.1253 - accuracy: 0.7113 - val_loss: 1.2661 - val_accuracy: 0.6799\n",
      "Epoch 13/20\n",
      "8982/8982 [==============================] - 17s 2ms/step - loss: 1.0758 - accuracy: 0.7265 - val_loss: 1.2824 - val_accuracy: 0.6808\n",
      "Epoch 14/20\n",
      "8982/8982 [==============================] - 19s 2ms/step - loss: 1.0123 - accuracy: 0.7459 - val_loss: 1.2262 - val_accuracy: 0.6963\n",
      "Epoch 15/20\n",
      "8982/8982 [==============================] - 18s 2ms/step - loss: 0.9578 - accuracy: 0.7612 - val_loss: 1.1900 - val_accuracy: 0.7097\n",
      "Epoch 16/20\n",
      "8982/8982 [==============================] - 18s 2ms/step - loss: 0.9201 - accuracy: 0.7695 - val_loss: 1.1557 - val_accuracy: 0.7133\n",
      "Epoch 17/20\n",
      "8982/8982 [==============================] - 18s 2ms/step - loss: 0.8707 - accuracy: 0.7797 - val_loss: 1.1696 - val_accuracy: 0.7124\n",
      "Epoch 18/20\n",
      "8982/8982 [==============================] - 18s 2ms/step - loss: 0.8412 - accuracy: 0.7876 - val_loss: 1.1575 - val_accuracy: 0.7150\n",
      "Epoch 19/20\n",
      "8982/8982 [==============================] - 18s 2ms/step - loss: 0.7934 - accuracy: 0.7999 - val_loss: 1.1968 - val_accuracy: 0.7146\n",
      "Epoch 20/20\n",
      "8982/8982 [==============================] - 17s 2ms/step - loss: 0.7837 - accuracy: 0.8022 - val_loss: 1.1881 - val_accuracy: 0.7191\n"
     ]
    }
   ],
   "source": [
    "# 모델의 실행\n",
    "history = model.fit(x_train, y_train, batch_size=100, epochs=20, validation_data=(x_test, y_test))"
   ]
  },
  {
   "cell_type": "code",
   "execution_count": 7,
   "metadata": {},
   "outputs": [
    {
     "name": "stdout",
     "output_type": "stream",
     "text": [
      "2246/2246 [==============================] - 1s 621us/step\n",
      "\n",
      " Test Accuracy: 0.7191\n"
     ]
    }
   ],
   "source": [
    "# 테스트 정확도 출력\n",
    "print(\"\\n Test Accuracy: %.4f\" % (model.evaluate(x_test, y_test)[1]))"
   ]
  },
  {
   "cell_type": "code",
   "execution_count": 10,
   "metadata": {},
   "outputs": [
    {
     "data": {
      "image/png": "[encoded data removed]",
      "text/plain": [
       "<Figure size 720x720 with 1 Axes>"
      ]
     },
     "metadata": {
      "needs_background": "light"
     },
     "output_type": "display_data"
    }
   ],
   "source": [
    "# 테스트 셋의 오차\n",
    "y_vloss = history.history['val_loss']\n",
    "\n",
    "# 학습셋의 오차\n",
    "y_loss = history.history['loss']\n",
    "\n",
    "# 그래프로 표현\n",
    "x_len = numpy.arange(len(y_loss))\n",
    "plt.figure(figsize=(10,10))\n",
    "plt.plot(x_len, y_vloss, marker='.', c=\"red\", label='Testset_loss')\n",
    "plt.plot(x_len, y_loss, marker='.', c=\"blue\", label='Trainset_loss')\n",
    "# 그래프에 그리드를 주고 레이블을 표시\n",
    "plt.legend(loc='upper right')\n",
    "plt.grid()\n",
    "plt.xlabel('epoch')\n",
    "plt.ylabel('loss')\n",
    "plt.show()"
   ]
  },
  {
   "cell_type": "code",
   "execution_count": null,
   "metadata": {},
   "outputs": [],
   "source": []
  }
 ],
 "metadata": {
  "kernelspec": {
   "display_name": "Python 3",
   "language": "python",
   "name": "python3"
  },
  "language_info": {
   "codemirror_mode": {
    "name": "ipython",
    "version": 3
   },
   "file_extension": ".py",
   "mimetype": "text/x-python",
   "name": "python",
   "nbconvert_exporter": "python",
   "pygments_lexer": "ipython3",
   "version": "3.7.6"
  }
 },
 "nbformat": 4,
 "nbformat_minor": 4
}
